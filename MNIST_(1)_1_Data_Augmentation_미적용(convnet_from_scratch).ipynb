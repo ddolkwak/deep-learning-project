{
  "cells": [
    {
      "cell_type": "markdown",
      "source": [
        "#구글 코랩에 캐글 데이터셋(MNIST) 내려받기"
      ],
      "metadata": {
        "id": "L88G1nBeaSjO"
      }
    },
    {
      "cell_type": "code",
      "source": [
        "# MNIST 데이터셋 로드\n",
        "import tensorflow as tf\n",
        "import tensorflow_datasets as tfds\n",
        "\n",
        "dataset, info = tfds.load('MNIST', with_info=True, as_supervised=False)\n",
        "train_dataset_original = dataset['train']\n",
        "test_datasets = dataset['test']"
      ],
      "metadata": {
        "id": "5Fb9pkEGuBgU"
      },
      "execution_count": 1,
      "outputs": []
    },
    {
      "cell_type": "code",
      "source": [
        "# 훈련 데이터셋과 검증 데이터셋으로 나누기\n",
        "train_datasets = train_dataset_original.take(50000)\n",
        "valid_datasets = train_dataset_original.skip(50000)"
      ],
      "metadata": {
        "id": "HUyjdXR5TzFp"
      },
      "execution_count": 2,
      "outputs": []
    },
    {
      "cell_type": "code",
      "source": [
        "print(len(train_datasets))\n",
        "print(len(valid_datasets))\n",
        "print(len(test_datasets))"
      ],
      "metadata": {
        "colab": {
          "base_uri": "https://localhost:8080/"
        },
        "id": "HbxLK7_AuYlk",
        "outputId": "e1bcfa68-35bf-4c08-d5c3-4a836e856899"
      },
      "execution_count": 3,
      "outputs": [
        {
          "output_type": "stream",
          "name": "stdout",
          "text": [
            "50000\n",
            "10000\n",
            "10000\n"
          ]
        }
      ]
    },
    {
      "cell_type": "code",
      "source": [
        "for data in train_datasets.take(5):\n",
        "  print(data['image'].shape)\n",
        "  print(data['label'])"
      ],
      "metadata": {
        "colab": {
          "base_uri": "https://localhost:8080/"
        },
        "id": "ZiX-e8w-ueUf",
        "outputId": "85ad2192-f79c-43b4-a01d-d190518d307a"
      },
      "execution_count": 4,
      "outputs": [
        {
          "output_type": "stream",
          "name": "stdout",
          "text": [
            "(28, 28, 1)\n",
            "tf.Tensor(4, shape=(), dtype=int64)\n",
            "(28, 28, 1)\n",
            "tf.Tensor(1, shape=(), dtype=int64)\n",
            "(28, 28, 1)\n",
            "tf.Tensor(0, shape=(), dtype=int64)\n",
            "(28, 28, 1)\n",
            "tf.Tensor(7, shape=(), dtype=int64)\n",
            "(28, 28, 1)\n",
            "tf.Tensor(8, shape=(), dtype=int64)\n"
          ]
        }
      ]
    },
    {
      "cell_type": "markdown",
      "source": [
        "# 데이터 전처리"
      ],
      "metadata": {
        "id": "L-ILyUtWMH_p"
      }
    },
    {
      "cell_type": "code",
      "source": [
        "# 데이터 전처리 함수\n",
        "def preprocessing(data):\n",
        "  image = tf.cast(data['image'], tf.float32) / 255.0\n",
        "  label = data['label']\n",
        "  return image, label"
      ],
      "metadata": {
        "id": "X5voosthDZhL"
      },
      "execution_count": 5,
      "outputs": []
    },
    {
      "cell_type": "code",
      "source": [
        "# 전처리를 train_datasets에 매핑하기\n",
        "BATCH_SIZE=64\n",
        "train_data = train_datasets.map(preprocessing).batch(BATCH_SIZE)\n",
        "valid_data = valid_datasets.map(preprocessing).batch(BATCH_SIZE)\n",
        "test_data = test_datasets.map(preprocessing).batch(BATCH_SIZE)"
      ],
      "metadata": {
        "id": "VzEAYL5AD2nE"
      },
      "execution_count": 6,
      "outputs": []
    },
    {
      "cell_type": "code",
      "source": [
        "# train_data에서 하나 추출하여 shape 확인\n",
        "for image, label in train_data.take(1):\n",
        "  print(image.shape)\n",
        "  print(label.shape)"
      ],
      "metadata": {
        "colab": {
          "base_uri": "https://localhost:8080/"
        },
        "id": "HoGjmPsmEZ5V",
        "outputId": "0d347d6c-1f83-4ea4-cb39-a9a12cd0aad4"
      },
      "execution_count": 7,
      "outputs": [
        {
          "output_type": "stream",
          "name": "stdout",
          "text": [
            "(64, 28, 28, 1)\n",
            "(64,)\n"
          ]
        }
      ]
    },
    {
      "cell_type": "markdown",
      "source": [
        "# 모델 만들기"
      ],
      "metadata": {
        "id": "_5UX655CGoyb"
      }
    },
    {
      "cell_type": "code",
      "source": [
        "# 컨브넷 모델 만들기\n",
        "from tensorflow import keras\n",
        "from tensorflow.keras import layers\n",
        "\n",
        "inputs = keras.Input(shape=(28, 28, 1))\n",
        "x = layers.Conv2D(filters=32, kernel_size=3, activation=\"relu\")(inputs)\n",
        "x = layers.MaxPooling2D(pool_size=2)(x)\n",
        "x = layers.Conv2D(filters=64, kernel_size=3, activation=\"relu\")(x)\n",
        "x = layers.MaxPooling2D(pool_size=2)(x)\n",
        "x = layers.Conv2D(filters=128, kernel_size=3, activation=\"relu\")(x)\n",
        "x = layers.Flatten()(x)\n",
        "outputs = layers.Dense(10, activation=\"softmax\")(x)\n",
        "model = keras.Model(inputs=inputs, outputs=outputs)"
      ],
      "metadata": {
        "id": "UALiJPf8IqsJ"
      },
      "execution_count": 8,
      "outputs": []
    },
    {
      "cell_type": "code",
      "source": [
        "#모델 요약\n",
        "model.summary()"
      ],
      "metadata": {
        "colab": {
          "base_uri": "https://localhost:8080/"
        },
        "id": "kKo9MptWLZGz",
        "outputId": "dc8957da-04a4-4992-e787-4d8d6577aa5c"
      },
      "execution_count": 9,
      "outputs": [
        {
          "output_type": "stream",
          "name": "stdout",
          "text": [
            "Model: \"model\"\n",
            "_________________________________________________________________\n",
            " Layer (type)                Output Shape              Param #   \n",
            "=================================================================\n",
            " input_1 (InputLayer)        [(None, 28, 28, 1)]       0         \n",
            "                                                                 \n",
            " conv2d (Conv2D)             (None, 26, 26, 32)        320       \n",
            "                                                                 \n",
            " max_pooling2d (MaxPooling2  (None, 13, 13, 32)        0         \n",
            " D)                                                              \n",
            "                                                                 \n",
            " conv2d_1 (Conv2D)           (None, 11, 11, 64)        18496     \n",
            "                                                                 \n",
            " max_pooling2d_1 (MaxPoolin  (None, 5, 5, 64)          0         \n",
            " g2D)                                                            \n",
            "                                                                 \n",
            " conv2d_2 (Conv2D)           (None, 3, 3, 128)         73856     \n",
            "                                                                 \n",
            " flatten (Flatten)           (None, 1152)              0         \n",
            "                                                                 \n",
            " dense (Dense)               (None, 10)                11530     \n",
            "                                                                 \n",
            "=================================================================\n",
            "Total params: 104202 (407.04 KB)\n",
            "Trainable params: 104202 (407.04 KB)\n",
            "Non-trainable params: 0 (0.00 Byte)\n",
            "_________________________________________________________________\n"
          ]
        }
      ]
    },
    {
      "cell_type": "code",
      "source": [
        "# 모델 컴파일, 옵티마이저인 adam의 학습률 변경\n",
        "optimizer = tf.keras.optimizers.Adam(learning_rate=3e-5) # 1e-3 -> 3e-5\n",
        "model.compile(loss=\"sparse_categorical_crossentropy\",\n",
        "              optimizer=optimizer,\n",
        "              metrics=\"accuracy\")"
      ],
      "metadata": {
        "id": "S3Kv0EeDMVNY"
      },
      "execution_count": 10,
      "outputs": []
    },
    {
      "cell_type": "markdown",
      "source": [
        "# 모델 훈련하기, 평가하기"
      ],
      "metadata": {
        "id": "KatEJf2vNSbH"
      }
    },
    {
      "cell_type": "code",
      "source": [
        "callbacks = [\n",
        "    keras.callbacks.ModelCheckpoint(\n",
        "        filepath=\"convnet_from_scratch.keras\",\n",
        "        save_best_only=True,\n",
        "        monitor=\"val_loss\"),\n",
        "    keras.callbacks.EarlyStopping(\n",
        "        monitor=\"val_accuracy\",\n",
        "        patience=3)\n",
        "]\n",
        "history = model.fit(\n",
        "    train_data,\n",
        "    validation_data=(valid_data),\n",
        "    epochs=10,\n",
        "    callbacks=callbacks)"
      ],
      "metadata": {
        "colab": {
          "base_uri": "https://localhost:8080/"
        },
        "id": "mAAh-A8nNXIo",
        "outputId": "9f253916-8645-4150-a40f-c4343fc85130"
      },
      "execution_count": 11,
      "outputs": [
        {
          "output_type": "stream",
          "name": "stdout",
          "text": [
            "Epoch 1/10\n",
            "782/782 [==============================] - 28s 28ms/step - loss: 1.2809 - accuracy: 0.7048 - val_loss: 0.4743 - val_accuracy: 0.8730\n",
            "Epoch 2/10\n",
            "782/782 [==============================] - 6s 7ms/step - loss: 0.3716 - accuracy: 0.8946 - val_loss: 0.3054 - val_accuracy: 0.9116\n",
            "Epoch 3/10\n",
            "782/782 [==============================] - 6s 7ms/step - loss: 0.2692 - accuracy: 0.9207 - val_loss: 0.2396 - val_accuracy: 0.9317\n",
            "Epoch 4/10\n",
            "782/782 [==============================] - 5s 6ms/step - loss: 0.2152 - accuracy: 0.9372 - val_loss: 0.1976 - val_accuracy: 0.9452\n",
            "Epoch 5/10\n",
            "782/782 [==============================] - 6s 7ms/step - loss: 0.1788 - accuracy: 0.9480 - val_loss: 0.1680 - val_accuracy: 0.9529\n",
            "Epoch 6/10\n",
            "782/782 [==============================] - 6s 8ms/step - loss: 0.1527 - accuracy: 0.9550 - val_loss: 0.1467 - val_accuracy: 0.9586\n",
            "Epoch 7/10\n",
            "782/782 [==============================] - 5s 6ms/step - loss: 0.1336 - accuracy: 0.9611 - val_loss: 0.1309 - val_accuracy: 0.9628\n",
            "Epoch 8/10\n",
            "782/782 [==============================] - 7s 9ms/step - loss: 0.1190 - accuracy: 0.9652 - val_loss: 0.1187 - val_accuracy: 0.9656\n",
            "Epoch 9/10\n",
            "782/782 [==============================] - 5s 6ms/step - loss: 0.1078 - accuracy: 0.9685 - val_loss: 0.1093 - val_accuracy: 0.9684\n",
            "Epoch 10/10\n",
            "782/782 [==============================] - 6s 8ms/step - loss: 0.0989 - accuracy: 0.9716 - val_loss: 0.1019 - val_accuracy: 0.9710\n"
          ]
        }
      ]
    },
    {
      "cell_type": "code",
      "source": [
        "# 훈련 과정 정확도, 손실 그래프 그리기\n",
        "import matplotlib.pyplot as plt\n",
        "\n",
        "accuracy = history.history[\"accuracy\"]\n",
        "val_accuracy = history.history[\"val_accuracy\"]\n",
        "loss = history.history[\"loss\"]\n",
        "val_loss = history.history[\"val_loss\"]\n",
        "epochs = range(1, len(accuracy)+1)\n",
        "plt.plot(epochs, accuracy, \"bo\", label=\"Training accuracy\")\n",
        "plt.plot(epochs, val_accuracy, \"b\", label=\"Validation accuracy\")\n",
        "plt.title(\"Training and validation accuracy\")\n",
        "plt.legend()\n",
        "plt.figure()\n",
        "plt.plot(epochs, loss, \"bo\", label=\"Training loss\")\n",
        "plt.plot(epochs, val_loss, \"b\", label=\"Validation loss\")\n",
        "plt.title(\"Training and validation loss\")\n",
        "plt.legend()\n",
        "plt.figure()"
      ],
      "metadata": {
        "id": "m4QJ8DwH32JN",
        "colab": {
          "base_uri": "https://localhost:8080/",
          "height": 924
        },
        "outputId": "16de5707-59d3-45a3-d4c0-5313f036c979"
      },
      "execution_count": 12,
      "outputs": [
        {
          "output_type": "execute_result",
          "data": {
            "text/plain": [
              "<Figure size 640x480 with 0 Axes>"
            ]
          },
          "metadata": {},
          "execution_count": 12
        },
        {
          "output_type": "display_data",
          "data": {
            "text/plain": [
              "<Figure size 640x480 with 1 Axes>"
            ],
            "image/png": "[encoded data removed]"
          },
          "metadata": {}
        },
        {
          "output_type": "display_data",
          "data": {
            "text/plain": [
              "<Figure size 640x480 with 1 Axes>"
            ],
            "image/png": "[encoded data removed]"
          },
          "metadata": {}
        },
        {
          "output_type": "display_data",
          "data": {
            "text/plain": [
              "<Figure size 640x480 with 0 Axes>"
            ]
          },
          "metadata": {}
        }
      ]
    },
    {
      "cell_type": "code",
      "source": [
        "# 테스트 세트에서 모델 평가하기\n",
        "import time\n",
        "\n",
        "test_model = keras.models.load_model(\"convnet_from_scratch.keras\")\n",
        "start_time = time.time()\n",
        "test_loss, test_acc = test_model.evaluate(test_data)\n",
        "end_time = time.time()\n",
        "prediction_time = end_time - start_time\n",
        "print(f\"테스트 정확도: {test_acc:.3f}\")\n",
        "print(f\"predict time : {prediction_time:.3f} s\")"
      ],
      "metadata": {
        "id": "LHYnkTBU56hP",
        "colab": {
          "base_uri": "https://localhost:8080/"
        },
        "outputId": "30899085-6072-4310-c631-be8605eed09b"
      },
      "execution_count": 13,
      "outputs": [
        {
          "output_type": "stream",
          "name": "stdout",
          "text": [
            "157/157 [==============================] - 1s 6ms/step - loss: 0.0845 - accuracy: 0.9754\n",
            "테스트 정확도: 0.975\n",
            "predict time : 1.208 s\n"
          ]
        }
      ]
    }
  ],
  "metadata": {
    "accelerator": "GPU",
    "colab": {
      "provenance": [],
      "gpuType": "T4"
    },
    "kernelspec": {
      "display_name": "default:Python",
      "language": "python",
      "name": "conda-env-default-py"
    },
    "language_info": {
      "codemirror_mode": {
        "name": "ipython",
        "version": 3
      },
      "file_extension": ".py",
      "mimetype": "text/x-python",
      "name": "python",
      "nbconvert_exporter": "python",
      "pygments_lexer": "ipython3",
      "version": "3.9.10"
    }
  },
  "nbformat": 4,
  "nbformat_minor": 0
}