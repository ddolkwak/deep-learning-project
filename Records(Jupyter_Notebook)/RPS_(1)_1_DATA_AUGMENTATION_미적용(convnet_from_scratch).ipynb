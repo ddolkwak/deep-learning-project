{
  "cells": [
    {
      "cell_type": "markdown",
      "source": [
        "#구글 코랩에 데이터셋(가위바위보) 내려받기"
      ],
      "metadata": {
        "id": "L88G1nBeaSjO"
      }
    },
    {
      "cell_type": "code",
      "source": [
        "# 가위바위보 데이터셋 로드\n",
        "import tensorflow as tf\n",
        "import tensorflow_datasets as tfds\n",
        "\n",
        "dataset, info = tfds.load('rock_paper_scissors', with_info=True, as_supervised=False)\n",
        "train_dataset_original = dataset['train']\n",
        "test_datasets = dataset['test']"
      ],
      "metadata": {
        "id": "5Fb9pkEGuBgU"
      },
      "execution_count": 1,
      "outputs": []
    },
    {
      "cell_type": "code",
      "source": [
        "# 훈련 및 검증 데이터셋 split 비율 설정\n",
        "train_size = 0.85\n",
        "train_count = int(info.splits['train'].num_examples * train_size)\n",
        "valid_count = info.splits['train'].num_examples - train_count"
      ],
      "metadata": {
        "id": "73Rko_PMTcjK"
      },
      "execution_count": 2,
      "outputs": []
    },
    {
      "cell_type": "code",
      "source": [
        "# 훈련 데이터셋과 검증 데이터셋으로 나누기\n",
        "train_datasets = train_dataset_original.take(train_count)\n",
        "valid_datasets = train_dataset_original.skip(train_count)"
      ],
      "metadata": {
        "id": "HUyjdXR5TzFp"
      },
      "execution_count": 3,
      "outputs": []
    },
    {
      "cell_type": "code",
      "source": [
        "# 각 데이터 셋 크기 확인\n",
        "print(len(train_datasets))\n",
        "print(len(valid_datasets))\n",
        "print(len(test_datasets))"
      ],
      "metadata": {
        "colab": {
          "base_uri": "https://localhost:8080/"
        },
        "id": "HbxLK7_AuYlk",
        "outputId": "15d8d2c2-606e-42d7-8d1d-6528bde488b7"
      },
      "execution_count": 4,
      "outputs": [
        {
          "output_type": "stream",
          "name": "stdout",
          "text": [
            "2142\n",
            "378\n",
            "372\n"
          ]
        }
      ]
    },
    {
      "cell_type": "code",
      "source": [
        "# 훈련 데이터의 이미지 shpae와 label 확인\n",
        "for data in train_datasets.take(5):\n",
        "  print(data['image'].shape)\n",
        "  print(data['label'])"
      ],
      "metadata": {
        "colab": {
          "base_uri": "https://localhost:8080/"
        },
        "id": "ZiX-e8w-ueUf",
        "outputId": "98cf0585-1f54-49e4-b679-ee750d3239c2"
      },
      "execution_count": 5,
      "outputs": [
        {
          "output_type": "stream",
          "name": "stdout",
          "text": [
            "(300, 300, 3)\n",
            "tf.Tensor(2, shape=(), dtype=int64)\n",
            "(300, 300, 3)\n",
            "tf.Tensor(2, shape=(), dtype=int64)\n",
            "(300, 300, 3)\n",
            "tf.Tensor(0, shape=(), dtype=int64)\n",
            "(300, 300, 3)\n",
            "tf.Tensor(1, shape=(), dtype=int64)\n",
            "(300, 300, 3)\n",
            "tf.Tensor(0, shape=(), dtype=int64)\n"
          ]
        }
      ]
    },
    {
      "cell_type": "markdown",
      "source": [
        "# 데이터 전처리"
      ],
      "metadata": {
        "id": "L-ILyUtWMH_p"
      }
    },
    {
      "cell_type": "code",
      "source": [
        "# 데이터 전처리 함수 생성\n",
        "def preprocessing(data):\n",
        "  image = tf.cast(data['image'], tf.float32) / 255.0\n",
        "  label = data['label']\n",
        "  return image, label"
      ],
      "metadata": {
        "id": "X5voosthDZhL"
      },
      "execution_count": 6,
      "outputs": []
    },
    {
      "cell_type": "code",
      "source": [
        "# 배치 사이즈 지정, 전처리 함수를 datasets에 매핑\n",
        "BATCH_SIZE=32\n",
        "train_data = train_datasets.map(preprocessing).shuffle(1000).batch(BATCH_SIZE)\n",
        "valid_data = valid_datasets.map(preprocessing).batch(BATCH_SIZE)\n",
        "test_data = test_datasets.map(preprocessing).batch(BATCH_SIZE)"
      ],
      "metadata": {
        "id": "VzEAYL5AD2nE"
      },
      "execution_count": 7,
      "outputs": []
    },
    {
      "cell_type": "markdown",
      "source": [
        "# 모델 만들기"
      ],
      "metadata": {
        "id": "_5UX655CGoyb"
      }
    },
    {
      "cell_type": "code",
      "source": [
        "# 모델 만들기\n",
        "from tensorflow import keras\n",
        "from tensorflow.keras import layers\n",
        "\n",
        "inputs = keras.Input(shape=(300, 300, 3))\n",
        "x = layers.Conv2D(filters=32, kernel_size=3, activation=\"relu\")(inputs)\n",
        "x = layers.MaxPooling2D(pool_size=2)(x)\n",
        "x = layers.Conv2D(filters=64, kernel_size=3, activation=\"relu\")(x)\n",
        "x = layers.MaxPooling2D(pool_size=2)(x)\n",
        "x = layers.Conv2D(filters=128, kernel_size=3, activation=\"relu\")(x)\n",
        "x = layers.MaxPooling2D(pool_size=2)(x)\n",
        "x = layers.Conv2D(filters=256, kernel_size=3, activation=\"relu\")(x)\n",
        "x = layers.MaxPooling2D(pool_size=2)(x)\n",
        "x = layers.Conv2D(filters=256, kernel_size=3, activation=\"relu\")(x)\n",
        "x = layers.Flatten()(x)\n",
        "x = layers.Dropout(0.5)(x)\n",
        "outputs = layers.Dense(3, activation=\"softmax\")(x)\n",
        "model = keras.Model(inputs=inputs, outputs=outputs)"
      ],
      "metadata": {
        "id": "UALiJPf8IqsJ"
      },
      "execution_count": 8,
      "outputs": []
    },
    {
      "cell_type": "code",
      "source": [
        "#모델 요약\n",
        "model.summary()"
      ],
      "metadata": {
        "colab": {
          "base_uri": "https://localhost:8080/"
        },
        "id": "kKo9MptWLZGz",
        "outputId": "79b81ed2-39ff-486f-e259-87ac090eb817"
      },
      "execution_count": 9,
      "outputs": [
        {
          "output_type": "stream",
          "name": "stdout",
          "text": [
            "Model: \"model\"\n",
            "_________________________________________________________________\n",
            " Layer (type)                Output Shape              Param #   \n",
            "=================================================================\n",
            " input_1 (InputLayer)        [(None, 300, 300, 3)]     0         \n",
            "                                                                 \n",
            " conv2d (Conv2D)             (None, 298, 298, 32)      896       \n",
            "                                                                 \n",
            " max_pooling2d (MaxPooling2  (None, 149, 149, 32)      0         \n",
            " D)                                                              \n",
            "                                                                 \n",
            " conv2d_1 (Conv2D)           (None, 147, 147, 64)      18496     \n",
            "                                                                 \n",
            " max_pooling2d_1 (MaxPoolin  (None, 73, 73, 64)        0         \n",
            " g2D)                                                            \n",
            "                                                                 \n",
            " conv2d_2 (Conv2D)           (None, 71, 71, 128)       73856     \n",
            "                                                                 \n",
            " max_pooling2d_2 (MaxPoolin  (None, 35, 35, 128)       0         \n",
            " g2D)                                                            \n",
            "                                                                 \n",
            " conv2d_3 (Conv2D)           (None, 33, 33, 256)       295168    \n",
            "                                                                 \n",
            " max_pooling2d_3 (MaxPoolin  (None, 16, 16, 256)       0         \n",
            " g2D)                                                            \n",
            "                                                                 \n",
            " conv2d_4 (Conv2D)           (None, 14, 14, 256)       590080    \n",
            "                                                                 \n",
            " flatten (Flatten)           (None, 50176)             0         \n",
            "                                                                 \n",
            " dropout (Dropout)           (None, 50176)             0         \n",
            "                                                                 \n",
            " dense (Dense)               (None, 3)                 150531    \n",
            "                                                                 \n",
            "=================================================================\n",
            "Total params: 1129027 (4.31 MB)\n",
            "Trainable params: 1129027 (4.31 MB)\n",
            "Non-trainable params: 0 (0.00 Byte)\n",
            "_________________________________________________________________\n"
          ]
        }
      ]
    },
    {
      "cell_type": "code",
      "source": [
        "# 모델 컴파일. 옵티마이저인 adam의 학습률 변경\n",
        "optimizer = tf.keras.optimizers.Adam(learning_rate=5e-5) # Adam의 기본 learning rate 1e-3 -> 5e-5\n",
        "model.compile(loss=\"sparse_categorical_crossentropy\",\n",
        "              optimizer=optimizer,\n",
        "              metrics=\"accuracy\")"
      ],
      "metadata": {
        "id": "S3Kv0EeDMVNY"
      },
      "execution_count": 10,
      "outputs": []
    },
    {
      "cell_type": "markdown",
      "source": [
        "# 모델 훈련하기, 평가하기"
      ],
      "metadata": {
        "id": "KatEJf2vNSbH"
      }
    },
    {
      "cell_type": "code",
      "source": [
        "# 콜백함수 및 훈련\n",
        "callbacks = [\n",
        "    keras.callbacks.ModelCheckpoint(\n",
        "        filepath=\"convnet_from_scratch.keras\",\n",
        "        save_best_only=True,\n",
        "        monitor=\"val_loss\"),\n",
        "    keras.callbacks.EarlyStopping(\n",
        "        monitor=\"val_accuracy\",\n",
        "        patience=3)\n",
        "]\n",
        "history = model.fit(\n",
        "    train_data,\n",
        "    validation_data=(valid_data),\n",
        "    epochs=30,\n",
        "    callbacks=callbacks)"
      ],
      "metadata": {
        "colab": {
          "base_uri": "https://localhost:8080/"
        },
        "id": "mAAh-A8nNXIo",
        "outputId": "0aad1e85-650c-4093-c490-c62a7c100b06"
      },
      "execution_count": 11,
      "outputs": [
        {
          "output_type": "stream",
          "name": "stdout",
          "text": [
            "Epoch 1/30\n",
            "67/67 [==============================] - 36s 250ms/step - loss: 1.0047 - accuracy: 0.5378 - val_loss: 0.7877 - val_accuracy: 0.7381\n",
            "Epoch 2/30\n",
            "67/67 [==============================] - 8s 112ms/step - loss: 0.4987 - accuracy: 0.8193 - val_loss: 0.3370 - val_accuracy: 0.8466\n",
            "Epoch 3/30\n",
            "67/67 [==============================] - 8s 108ms/step - loss: 0.1540 - accuracy: 0.9594 - val_loss: 0.0771 - val_accuracy: 0.9815\n",
            "Epoch 4/30\n",
            "67/67 [==============================] - 8s 109ms/step - loss: 0.0575 - accuracy: 0.9879 - val_loss: 0.0352 - val_accuracy: 0.9921\n",
            "Epoch 5/30\n",
            "67/67 [==============================] - 8s 109ms/step - loss: 0.0337 - accuracy: 0.9916 - val_loss: 0.0174 - val_accuracy: 1.0000\n",
            "Epoch 6/30\n",
            "67/67 [==============================] - 7s 105ms/step - loss: 0.0212 - accuracy: 0.9958 - val_loss: 0.0349 - val_accuracy: 0.9894\n",
            "Epoch 7/30\n",
            "67/67 [==============================] - 8s 111ms/step - loss: 0.0134 - accuracy: 0.9972 - val_loss: 0.0037 - val_accuracy: 1.0000\n",
            "Epoch 8/30\n",
            "67/67 [==============================] - 7s 104ms/step - loss: 0.0061 - accuracy: 0.9991 - val_loss: 0.0056 - val_accuracy: 1.0000\n"
          ]
        }
      ]
    },
    {
      "cell_type": "code",
      "source": [
        "# 훈련 과정 정확도, 손실 그래프 그리기\n",
        "import matplotlib.pyplot as plt\n",
        "\n",
        "accuracy = history.history[\"accuracy\"]\n",
        "val_accuracy = history.history[\"val_accuracy\"]\n",
        "loss = history.history[\"loss\"]\n",
        "val_loss = history.history[\"val_loss\"]\n",
        "epochs = range(1, len(accuracy)+1)\n",
        "plt.plot(epochs, accuracy, \"bo\", label=\"Training accuracy\")\n",
        "plt.plot(epochs, val_accuracy, \"b\", label=\"Validation accuracy\")\n",
        "plt.title(\"Training and validation accuracy\")\n",
        "plt.legend()\n",
        "plt.figure()\n",
        "plt.plot(epochs, loss, \"bo\", label=\"Training loss\")\n",
        "plt.plot(epochs, val_loss, \"b\", label=\"Validation loss\")\n",
        "plt.title(\"Training and validation loss\")\n",
        "plt.legend()\n",
        "plt.figure()"
      ],
      "metadata": {
        "id": "m4QJ8DwH32JN",
        "colab": {
          "base_uri": "https://localhost:8080/",
          "height": 924
        },
        "outputId": "d86b51d5-e077-4986-b26b-9203c6db6c7b"
      },
      "execution_count": 12,
      "outputs": [
        {
          "output_type": "execute_result",
          "data": {
            "text/plain": [
              "<Figure size 640x480 with 0 Axes>"
            ]
          },
          "metadata": {},
          "execution_count": 12
        },
        {
          "output_type": "display_data",
          "data": {
            "text/plain": [
              "<Figure size 640x480 with 1 Axes>"
            ],
            "image/png": "[encoded data removed]"
          },
          "metadata": {}
        },
        {
          "output_type": "display_data",
          "data": {
            "text/plain": [
              "<Figure size 640x480 with 1 Axes>"
            ],
            "image/png": "[encoded data removed]"
          },
          "metadata": {}
        },
        {
          "output_type": "display_data",
          "data": {
            "text/plain": [
              "<Figure size 640x480 with 0 Axes>"
            ]
          },
          "metadata": {}
        }
      ]
    },
    {
      "cell_type": "code",
      "source": [
        "# 테스트 세트에서 모델 평가하기\n",
        "import time\n",
        "\n",
        "test_model = keras.models.load_model(\"convnet_from_scratch.keras\")\n",
        "start_time = time.time()\n",
        "test_loss, test_acc = test_model.evaluate(test_data)\n",
        "end_time = time.time()\n",
        "predict_time = end_time - start_time\n",
        "print(f\"테스트 정확도: {test_acc:.3f}\")\n",
        "print(f\"predict time : {predict_time:.3f} s\")"
      ],
      "metadata": {
        "id": "LHYnkTBU56hP",
        "colab": {
          "base_uri": "https://localhost:8080/"
        },
        "outputId": "e4a7f98d-274c-4dfd-8e53-5e7fc130b09d"
      },
      "execution_count": 13,
      "outputs": [
        {
          "output_type": "stream",
          "name": "stdout",
          "text": [
            "12/12 [==============================] - 2s 145ms/step - loss: 0.3849 - accuracy: 0.8226\n",
            "테스트 정확도: 0.823\n",
            "predict time : 2.864 s\n"
          ]
        }
      ]
    }
  ],
  "metadata": {
    "accelerator": "GPU",
    "colab": {
      "gpuType": "T4",
      "provenance": []
    },
    "kernelspec": {
      "display_name": "default:Python",
      "language": "python",
      "name": "conda-env-default-py"
    },
    "language_info": {
      "codemirror_mode": {
        "name": "ipython",
        "version": 3
      },
      "file_extension": ".py",
      "mimetype": "text/x-python",
      "name": "python",
      "nbconvert_exporter": "python",
      "pygments_lexer": "ipython3",
      "version": "3.9.10"
    }
  },
  "nbformat": 4,
  "nbformat_minor": 0
}