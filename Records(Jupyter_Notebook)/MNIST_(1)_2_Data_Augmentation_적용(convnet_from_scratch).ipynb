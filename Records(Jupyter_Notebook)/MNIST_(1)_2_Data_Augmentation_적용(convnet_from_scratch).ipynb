{
  "cells": [
    {
      "cell_type": "markdown",
      "source": [
        "#구글 코랩에 캐글 데이터셋(MNIST) 내려받기"
      ],
      "metadata": {
        "id": "L88G1nBeaSjO"
      }
    },
    {
      "cell_type": "code",
      "source": [
        "# MNIST 데이터셋 로드\n",
        "import tensorflow as tf\n",
        "import tensorflow_datasets as tfds\n",
        "\n",
        "dataset, info = tfds.load('MNIST', with_info=True, as_supervised=False)\n",
        "train_dataset_original = dataset['train']\n",
        "test_datasets = dataset['test']"
      ],
      "metadata": {
        "id": "5Fb9pkEGuBgU"
      },
      "execution_count": 1,
      "outputs": []
    },
    {
      "cell_type": "code",
      "source": [
        "# 훈련 데이터셋과 검증 데이터셋으로 나누기\n",
        "train_datasets = train_dataset_original.take(50000)\n",
        "valid_datasets = train_dataset_original.skip(50000)"
      ],
      "metadata": {
        "id": "HUyjdXR5TzFp"
      },
      "execution_count": 2,
      "outputs": []
    },
    {
      "cell_type": "code",
      "source": [
        "print(len(train_datasets))\n",
        "print(len(valid_datasets))\n",
        "print(len(test_datasets))"
      ],
      "metadata": {
        "colab": {
          "base_uri": "https://localhost:8080/"
        },
        "id": "HbxLK7_AuYlk",
        "outputId": "dd10f660-4025-4d19-c7f0-1b0a26fd8136"
      },
      "execution_count": 3,
      "outputs": [
        {
          "output_type": "stream",
          "name": "stdout",
          "text": [
            "50000\n",
            "10000\n",
            "10000\n"
          ]
        }
      ]
    },
    {
      "cell_type": "code",
      "source": [
        "for data in train_datasets.take(5):\n",
        "  print(data['image'].shape)\n",
        "  print(data['label'])"
      ],
      "metadata": {
        "colab": {
          "base_uri": "https://localhost:8080/"
        },
        "id": "ZiX-e8w-ueUf",
        "outputId": "3774abd3-f06e-4574-e9a3-a260b3d8db37"
      },
      "execution_count": 4,
      "outputs": [
        {
          "output_type": "stream",
          "name": "stdout",
          "text": [
            "(28, 28, 1)\n",
            "tf.Tensor(4, shape=(), dtype=int64)\n",
            "(28, 28, 1)\n",
            "tf.Tensor(1, shape=(), dtype=int64)\n",
            "(28, 28, 1)\n",
            "tf.Tensor(0, shape=(), dtype=int64)\n",
            "(28, 28, 1)\n",
            "tf.Tensor(7, shape=(), dtype=int64)\n",
            "(28, 28, 1)\n",
            "tf.Tensor(8, shape=(), dtype=int64)\n"
          ]
        }
      ]
    },
    {
      "cell_type": "markdown",
      "source": [
        "# 데이터 전처리"
      ],
      "metadata": {
        "id": "L-ILyUtWMH_p"
      }
    },
    {
      "cell_type": "code",
      "source": [
        "# 데이터 전처리 함수\n",
        "def preprocessing(data):\n",
        "  image = tf.cast(data['image'], tf.float32) / 255.0\n",
        "  label = data['label']\n",
        "  return image, label"
      ],
      "metadata": {
        "id": "X5voosthDZhL"
      },
      "execution_count": 5,
      "outputs": []
    },
    {
      "cell_type": "code",
      "source": [
        "# 전처리를 train_datasets에 매핑하기\n",
        "BATCH_SIZE=64\n",
        "train_data = train_datasets.map(preprocessing).batch(BATCH_SIZE)\n",
        "valid_data = valid_datasets.map(preprocessing).batch(BATCH_SIZE)\n",
        "test_data = test_datasets.map(preprocessing).batch(BATCH_SIZE)"
      ],
      "metadata": {
        "id": "VzEAYL5AD2nE"
      },
      "execution_count": 6,
      "outputs": []
    },
    {
      "cell_type": "code",
      "source": [
        "# train_data에서 하나 추출하여 shape 확인\n",
        "for image, label in train_data.take(1):\n",
        "  print(image.shape)\n",
        "  print(label.shape)"
      ],
      "metadata": {
        "colab": {
          "base_uri": "https://localhost:8080/"
        },
        "id": "HoGjmPsmEZ5V",
        "outputId": "8d228b95-0062-4489-bf96-dc4b2dcba578"
      },
      "execution_count": 7,
      "outputs": [
        {
          "output_type": "stream",
          "name": "stdout",
          "text": [
            "(64, 28, 28, 1)\n",
            "(64,)\n"
          ]
        }
      ]
    },
    {
      "cell_type": "markdown",
      "source": [
        "# 데이터 증식 사용하기"
      ],
      "metadata": {
        "id": "Bgmk0D1T8N1G"
      }
    },
    {
      "cell_type": "code",
      "source": [
        "from tensorflow import keras\n",
        "from tensorflow.keras import layers"
      ],
      "metadata": {
        "id": "-kAAmsdn8mVq"
      },
      "execution_count": 8,
      "outputs": []
    },
    {
      "cell_type": "code",
      "source": [
        "# 데이터 증식 단계 정의\n",
        "data_augmentation = keras.Sequential(\n",
        "    [\n",
        "        layers.RandomFlip(\"horizontal\"),\n",
        "        layers.RandomRotation(0.1),\n",
        "        layers.RandomZoom(0.2)\n",
        "    ]\n",
        ")"
      ],
      "metadata": {
        "id": "071jAKu18Qiv"
      },
      "execution_count": 9,
      "outputs": []
    },
    {
      "cell_type": "code",
      "source": [
        "# 랜덤 증식된 훈련 이미지 출력하기\n",
        "import matplotlib.pyplot as plt\n",
        "\n",
        "plt.figure(figsize=(10, 10))\n",
        "for image, _ in train_data.take(1):\n",
        "  for i in range(9):\n",
        "    augmented_image = data_augmentation(image)\n",
        "    ax = plt.subplot(3, 3, i+1)\n",
        "    plt.imshow(augmented_image[0].numpy().astype(\"float32\"))\n",
        "    plt.axis(\"off\")"
      ],
      "metadata": {
        "id": "RUMHXOt-8iCS",
        "colab": {
          "base_uri": "https://localhost:8080/",
          "height": 807
        },
        "outputId": "29c84905-0d45-402d-d333-480e2d598b87"
      },
      "execution_count": 10,
      "outputs": [
        {
          "output_type": "display_data",
          "data": {
            "text/plain": [
              "<Figure size 1000x1000 with 9 Axes>"
            ],
            "image/png": "[encoded data removed]"
          },
          "metadata": {}
        }
      ]
    },
    {
      "cell_type": "markdown",
      "source": [
        "# 모델 만들기"
      ],
      "metadata": {
        "id": "_5UX655CGoyb"
      }
    },
    {
      "cell_type": "code",
      "source": [
        "# 컨브넷 모델 만들기\n",
        "from tensorflow import keras\n",
        "from tensorflow.keras import layers\n",
        "\n",
        "inputs = keras.Input(shape=(28, 28, 1))\n",
        "x = data_augmentation(inputs)\n",
        "x = layers.Conv2D(filters=32, kernel_size=3, activation=\"relu\")(x)\n",
        "x = layers.MaxPooling2D(pool_size=2)(x)\n",
        "x = layers.Conv2D(filters=64, kernel_size=3, activation=\"relu\")(x)\n",
        "x = layers.MaxPooling2D(pool_size=2)(x)\n",
        "x = layers.Conv2D(filters=128, kernel_size=3, activation=\"relu\")(x)\n",
        "x = layers.Flatten()(x)\n",
        "outputs = layers.Dense(10, activation=\"softmax\")(x)\n",
        "model = keras.Model(inputs=inputs, outputs=outputs)"
      ],
      "metadata": {
        "id": "UALiJPf8IqsJ"
      },
      "execution_count": 11,
      "outputs": []
    },
    {
      "cell_type": "code",
      "source": [
        "#모델 요약\n",
        "model.summary()"
      ],
      "metadata": {
        "colab": {
          "base_uri": "https://localhost:8080/"
        },
        "id": "kKo9MptWLZGz",
        "outputId": "05904261-11fe-4365-9654-51ba4651ab02"
      },
      "execution_count": 12,
      "outputs": [
        {
          "output_type": "stream",
          "name": "stdout",
          "text": [
            "Model: \"model\"\n",
            "_________________________________________________________________\n",
            " Layer (type)                Output Shape              Param #   \n",
            "=================================================================\n",
            " input_1 (InputLayer)        [(None, 28, 28, 1)]       0         \n",
            "                                                                 \n",
            " sequential (Sequential)     (None, 28, 28, 1)         0         \n",
            "                                                                 \n",
            " conv2d (Conv2D)             (None, 26, 26, 32)        320       \n",
            "                                                                 \n",
            " max_pooling2d (MaxPooling2  (None, 13, 13, 32)        0         \n",
            " D)                                                              \n",
            "                                                                 \n",
            " conv2d_1 (Conv2D)           (None, 11, 11, 64)        18496     \n",
            "                                                                 \n",
            " max_pooling2d_1 (MaxPoolin  (None, 5, 5, 64)          0         \n",
            " g2D)                                                            \n",
            "                                                                 \n",
            " conv2d_2 (Conv2D)           (None, 3, 3, 128)         73856     \n",
            "                                                                 \n",
            " flatten (Flatten)           (None, 1152)              0         \n",
            "                                                                 \n",
            " dense (Dense)               (None, 10)                11530     \n",
            "                                                                 \n",
            "=================================================================\n",
            "Total params: 104202 (407.04 KB)\n",
            "Trainable params: 104202 (407.04 KB)\n",
            "Non-trainable params: 0 (0.00 Byte)\n",
            "_________________________________________________________________\n"
          ]
        }
      ]
    },
    {
      "cell_type": "code",
      "source": [
        "# 모델 컴파일, 옵티마이저인 adam의 학습률 변경\n",
        "optimizer = tf.keras.optimizers.Adam(learning_rate=3e-5) # 1e-3 -> 3e-5\n",
        "model.compile(loss=\"sparse_categorical_crossentropy\",\n",
        "              optimizer=optimizer,\n",
        "              metrics=\"accuracy\")"
      ],
      "metadata": {
        "id": "S3Kv0EeDMVNY"
      },
      "execution_count": 13,
      "outputs": []
    },
    {
      "cell_type": "markdown",
      "source": [
        "# 모델 훈련하기, 평가하기"
      ],
      "metadata": {
        "id": "KatEJf2vNSbH"
      }
    },
    {
      "cell_type": "code",
      "source": [
        "callbacks = [\n",
        "    keras.callbacks.ModelCheckpoint(\n",
        "        filepath=\"convnet_from_scratch_with_augmentation.keras\",\n",
        "        save_best_only=True,\n",
        "        monitor=\"val_loss\"),\n",
        "    keras.callbacks.EarlyStopping(\n",
        "        monitor=\"val_accuracy\",\n",
        "        patience=3)\n",
        "]\n",
        "history = model.fit(\n",
        "    train_data,\n",
        "    validation_data=(valid_data),\n",
        "    epochs=10,\n",
        "    callbacks=callbacks)"
      ],
      "metadata": {
        "colab": {
          "base_uri": "https://localhost:8080/"
        },
        "id": "mAAh-A8nNXIo",
        "outputId": "25209724-b711-42d4-e647-66527cec36c2"
      },
      "execution_count": 14,
      "outputs": [
        {
          "output_type": "stream",
          "name": "stdout",
          "text": [
            "Epoch 1/10\n",
            "782/782 [==============================] - 24s 22ms/step - loss: 1.7510 - accuracy: 0.5065 - val_loss: 0.8688 - val_accuracy: 0.7364\n",
            "Epoch 2/10\n",
            "782/782 [==============================] - 6s 7ms/step - loss: 0.9845 - accuracy: 0.6876 - val_loss: 0.6375 - val_accuracy: 0.7908\n",
            "Epoch 3/10\n",
            "782/782 [==============================] - 7s 9ms/step - loss: 0.8219 - accuracy: 0.7391 - val_loss: 0.5447 - val_accuracy: 0.8195\n",
            "Epoch 4/10\n",
            "782/782 [==============================] - 6s 7ms/step - loss: 0.7401 - accuracy: 0.7664 - val_loss: 0.4827 - val_accuracy: 0.8445\n",
            "Epoch 5/10\n",
            "782/782 [==============================] - 6s 7ms/step - loss: 0.6680 - accuracy: 0.7894 - val_loss: 0.4339 - val_accuracy: 0.8610\n",
            "Epoch 6/10\n",
            "782/782 [==============================] - 7s 9ms/step - loss: 0.6100 - accuracy: 0.8087 - val_loss: 0.3909 - val_accuracy: 0.8754\n",
            "Epoch 7/10\n",
            "782/782 [==============================] - 6s 8ms/step - loss: 0.5618 - accuracy: 0.8242 - val_loss: 0.3619 - val_accuracy: 0.8863\n",
            "Epoch 8/10\n",
            "782/782 [==============================] - 6s 7ms/step - loss: 0.5226 - accuracy: 0.8364 - val_loss: 0.3373 - val_accuracy: 0.8931\n",
            "Epoch 9/10\n",
            "782/782 [==============================] - 7s 9ms/step - loss: 0.4859 - accuracy: 0.8481 - val_loss: 0.3131 - val_accuracy: 0.8997\n",
            "Epoch 10/10\n",
            "782/782 [==============================] - 6s 7ms/step - loss: 0.4573 - accuracy: 0.8576 - val_loss: 0.2905 - val_accuracy: 0.9076\n"
          ]
        }
      ]
    },
    {
      "cell_type": "code",
      "source": [
        "# 훈련 과정 정확도, 손실 그래프 그리기\n",
        "import matplotlib.pyplot as plt\n",
        "\n",
        "accuracy = history.history[\"accuracy\"]\n",
        "val_accuracy = history.history[\"val_accuracy\"]\n",
        "loss = history.history[\"loss\"]\n",
        "val_loss = history.history[\"val_loss\"]\n",
        "epochs = range(1, len(accuracy)+1)\n",
        "plt.plot(epochs, accuracy, \"bo\", label=\"Training accuracy\")\n",
        "plt.plot(epochs, val_accuracy, \"b\", label=\"Validation accuracy\")\n",
        "plt.title(\"Training and validation accuracy\")\n",
        "plt.legend()\n",
        "plt.figure()\n",
        "plt.plot(epochs, loss, \"bo\", label=\"Training loss\")\n",
        "plt.plot(epochs, val_loss, \"b\", label=\"Validation loss\")\n",
        "plt.title(\"Training and validation loss\")\n",
        "plt.legend()\n",
        "plt.figure()"
      ],
      "metadata": {
        "id": "m4QJ8DwH32JN",
        "colab": {
          "base_uri": "https://localhost:8080/",
          "height": 924
        },
        "outputId": "8876a13f-8b4e-469e-8ffb-cea4ec78468f"
      },
      "execution_count": 15,
      "outputs": [
        {
          "output_type": "execute_result",
          "data": {
            "text/plain": [
              "<Figure size 640x480 with 0 Axes>"
            ]
          },
          "metadata": {},
          "execution_count": 15
        },
        {
          "output_type": "display_data",
          "data": {
            "text/plain": [
              "<Figure size 640x480 with 1 Axes>"
            ],
            "image/png": "[encoded data removed]"
          },
          "metadata": {}
        },
        {
          "output_type": "display_data",
          "data": {
            "text/plain": [
              "<Figure size 640x480 with 1 Axes>"
            ],
            "image/png": "[encoded data removed]"
          },
          "metadata": {}
        },
        {
          "output_type": "display_data",
          "data": {
            "text/plain": [
              "<Figure size 640x480 with 0 Axes>"
            ]
          },
          "metadata": {}
        }
      ]
    },
    {
      "cell_type": "code",
      "source": [
        "# 테스트 세트에서 모델 평가하기\n",
        "import time\n",
        "\n",
        "test_model = keras.models.load_model(\"convnet_from_scratch_with_augmentation.keras\")\n",
        "start_time = time.time()\n",
        "test_loss, test_acc = test_model.evaluate(test_data)\n",
        "end_time = time.time()\n",
        "prediction_time = end_time - start_time\n",
        "print(f\"테스트 정확도: {test_acc:.3f}\")\n",
        "print(f\"prediction time : {prediction_time:.3f} s\")"
      ],
      "metadata": {
        "id": "LHYnkTBU56hP",
        "colab": {
          "base_uri": "https://localhost:8080/"
        },
        "outputId": "13d57f55-a97a-4127-a022-f541e76c2386"
      },
      "execution_count": 16,
      "outputs": [
        {
          "output_type": "stream",
          "name": "stdout",
          "text": [
            "157/157 [==============================] - 1s 6ms/step - loss: 0.2606 - accuracy: 0.9183\n",
            "테스트 정확도: 0.918\n",
            "prediction time : 1.504 s\n"
          ]
        }
      ]
    }
  ],
  "metadata": {
    "accelerator": "GPU",
    "colab": {
      "provenance": [],
      "gpuType": "T4"
    },
    "kernelspec": {
      "display_name": "default:Python",
      "language": "python",
      "name": "conda-env-default-py"
    },
    "language_info": {
      "codemirror_mode": {
        "name": "ipython",
        "version": 3
      },
      "file_extension": ".py",
      "mimetype": "text/x-python",
      "name": "python",
      "nbconvert_exporter": "python",
      "pygments_lexer": "ipython3",
      "version": "3.9.10"
    }
  },
  "nbformat": 4,
  "nbformat_minor": 0
}