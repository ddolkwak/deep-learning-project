{
  "cells": [
    {
      "cell_type": "markdown",
      "source": [
        "#구글 코랩에 캐글 데이터셋(MNIST) 내려받기"
      ],
      "metadata": {
        "id": "L88G1nBeaSjO"
      }
    },
    {
      "cell_type": "code",
      "source": [
        "# MNIST 데이터셋 로드\n",
        "import tensorflow as tf\n",
        "import tensorflow_datasets as tfds\n",
        "\n",
        "dataset, info = tfds.load('MNIST', with_info=True, as_supervised=False)\n",
        "train_dataset_original = dataset['train']\n",
        "test_datasets = dataset['test']"
      ],
      "metadata": {
        "id": "5Fb9pkEGuBgU",
        "colab": {
          "base_uri": "https://localhost:8080/",
          "height": 106,
          "referenced_widgets": [
            "e9b4d691f062453dbc0933e69fe8f4bf",
            "4087c67e44474942bc40dbf5ba07d7bc",
            "3ceda20cd4744ef8b0acc8814443d171",
            "cb1c46e0b98b45209729584775fdd894",
            "aa21084bf4744e6ab3034ef6df061e7a",
            "178295cc6da04812a840fcb20b69a81c",
            "fc65520514c34da293d80374d64572df",
            "abf2f55b5a554e1da79841f2272df88f",
            "c094ad367aa84462a93d042575ca010d",
            "14a6189b9329432cb2bf10fddefe2425",
            "3f01db6bad7c4b85bfb6dd466f60eecd"
          ]
        },
        "outputId": "6b2815e9-1e33-4774-8fd8-7445a904a38b"
      },
      "execution_count": 1,
      "outputs": [
        {
          "output_type": "stream",
          "name": "stdout",
          "text": [
            "Downloading and preparing dataset 11.06 MiB (download: 11.06 MiB, generated: 21.00 MiB, total: 32.06 MiB) to /root/tensorflow_datasets/mnist/3.0.1...\n"
          ]
        },
        {
          "output_type": "display_data",
          "data": {
            "text/plain": [
              "Dl Completed...:   0%|          | 0/5 [00:00<?, ? file/s]"
            ],
            "application/vnd.jupyter.widget-view+json": {
              "version_major": 2,
              "version_minor": 0,
              "model_id": "e9b4d691f062453dbc0933e69fe8f4bf"
            }
          },
          "metadata": {}
        },
        {
          "output_type": "stream",
          "name": "stdout",
          "text": [
            "Dataset mnist downloaded and prepared to /root/tensorflow_datasets/mnist/3.0.1. Subsequent calls will reuse this data.\n"
          ]
        }
      ]
    },
    {
      "cell_type": "code",
      "source": [
        "# 훈련 데이터셋과 검증 데이터셋으로 나누기\n",
        "train_datasets = train_dataset_original.take(50000)\n",
        "valid_datasets = train_dataset_original.skip(50000)"
      ],
      "metadata": {
        "id": "HUyjdXR5TzFp"
      },
      "execution_count": 2,
      "outputs": []
    },
    {
      "cell_type": "code",
      "source": [
        "print(len(train_datasets))\n",
        "print(len(valid_datasets))\n",
        "print(len(test_datasets))"
      ],
      "metadata": {
        "colab": {
          "base_uri": "https://localhost:8080/"
        },
        "id": "HbxLK7_AuYlk",
        "outputId": "f2dd0866-8290-4e59-bafe-bdf5af41609b"
      },
      "execution_count": 3,
      "outputs": [
        {
          "output_type": "stream",
          "name": "stdout",
          "text": [
            "50000\n",
            "10000\n",
            "10000\n"
          ]
        }
      ]
    },
    {
      "cell_type": "code",
      "source": [
        "for data in train_datasets.take(5):\n",
        "  print(data['image'].shape)\n",
        "  print(data['label'])"
      ],
      "metadata": {
        "colab": {
          "base_uri": "https://localhost:8080/"
        },
        "id": "ZiX-e8w-ueUf",
        "outputId": "0edb1e27-bb1f-457c-c758-1b1531a53239"
      },
      "execution_count": 4,
      "outputs": [
        {
          "output_type": "stream",
          "name": "stdout",
          "text": [
            "(28, 28, 1)\n",
            "tf.Tensor(4, shape=(), dtype=int64)\n",
            "(28, 28, 1)\n",
            "tf.Tensor(1, shape=(), dtype=int64)\n",
            "(28, 28, 1)\n",
            "tf.Tensor(0, shape=(), dtype=int64)\n",
            "(28, 28, 1)\n",
            "tf.Tensor(7, shape=(), dtype=int64)\n",
            "(28, 28, 1)\n",
            "tf.Tensor(8, shape=(), dtype=int64)\n"
          ]
        }
      ]
    },
    {
      "cell_type": "markdown",
      "source": [
        "# 데이터 전처리"
      ],
      "metadata": {
        "id": "L-ILyUtWMH_p"
      }
    },
    {
      "cell_type": "code",
      "source": [
        "# 데이터 전처리 함수\n",
        "def preprocessing(data):\n",
        "  image = tf.cast(data['image'], tf.float32) / 255.0\n",
        "  label = data['label']\n",
        "  return image, label"
      ],
      "metadata": {
        "id": "X5voosthDZhL"
      },
      "execution_count": 5,
      "outputs": []
    },
    {
      "cell_type": "code",
      "source": [
        "# 전처리를 train_datasets에 매핑하기\n",
        "BATCH_SIZE=64\n",
        "train_data = train_datasets.map(preprocessing).shuffle(1000).batch(BATCH_SIZE)\n",
        "valid_data = valid_datasets.map(preprocessing).batch(BATCH_SIZE)\n",
        "test_data = test_datasets.map(preprocessing).batch(BATCH_SIZE)"
      ],
      "metadata": {
        "id": "VzEAYL5AD2nE"
      },
      "execution_count": 6,
      "outputs": []
    },
    {
      "cell_type": "code",
      "source": [
        "# train_data에서 하나 추출하여 shape 확인\n",
        "for image, label in train_data.take(1):\n",
        "  print(image.shape)\n",
        "  print(label.shape)"
      ],
      "metadata": {
        "colab": {
          "base_uri": "https://localhost:8080/"
        },
        "id": "HoGjmPsmEZ5V",
        "outputId": "21acec07-a110-46c1-b305-b240fd4ede76"
      },
      "execution_count": 7,
      "outputs": [
        {
          "output_type": "stream",
          "name": "stdout",
          "text": [
            "(64, 28, 28, 1)\n",
            "(64,)\n"
          ]
        }
      ]
    },
    {
      "cell_type": "markdown",
      "source": [
        "# 데이터 증식 사용하기"
      ],
      "metadata": {
        "id": "Bgmk0D1T8N1G"
      }
    },
    {
      "cell_type": "code",
      "source": [
        "from tensorflow import keras\n",
        "from tensorflow.keras import layers"
      ],
      "metadata": {
        "id": "-kAAmsdn8mVq"
      },
      "execution_count": 8,
      "outputs": []
    },
    {
      "cell_type": "code",
      "source": [
        "# 데이터 증식 단계 정의\n",
        "data_augmentation = keras.Sequential(\n",
        "    [\n",
        "        layers.RandomRotation(0.05), # 0.1 -> 0.05\n",
        "        layers.RandomZoom(0.15) # 0.2 -> 0.15\n",
        "    ]\n",
        ")"
      ],
      "metadata": {
        "id": "071jAKu18Qiv"
      },
      "execution_count": 9,
      "outputs": []
    },
    {
      "cell_type": "code",
      "source": [
        "# 랜덤 증식된 훈련 이미지 출력하기\n",
        "import matplotlib.pyplot as plt\n",
        "\n",
        "plt.figure(figsize=(10, 10))\n",
        "for image, _ in train_data.take(1):\n",
        "  for i in range(9):\n",
        "    augmented_image = data_augmentation(image)\n",
        "    ax = plt.subplot(3, 3, i+1)\n",
        "    plt.imshow(augmented_image[0].numpy().astype(\"float32\"))\n",
        "    plt.axis(\"off\")"
      ],
      "metadata": {
        "id": "RUMHXOt-8iCS",
        "colab": {
          "base_uri": "https://localhost:8080/",
          "height": 807
        },
        "outputId": "1f78f13e-43f4-491e-ba83-8b1a21c718de"
      },
      "execution_count": 10,
      "outputs": [
        {
          "output_type": "display_data",
          "data": {
            "text/plain": [
              "<Figure size 1000x1000 with 9 Axes>"
            ],
            "image/png": "[encoded data removed]"
          },
          "metadata": {}
        }
      ]
    },
    {
      "cell_type": "markdown",
      "source": [
        "# 모델 만들기"
      ],
      "metadata": {
        "id": "_5UX655CGoyb"
      }
    },
    {
      "cell_type": "code",
      "source": [
        "# 컨브넷 모델 만들기\n",
        "from tensorflow import keras\n",
        "from tensorflow.keras import layers\n",
        "\n",
        "inputs = keras.Input(shape=(28, 28, 1))\n",
        "x = data_augmentation(inputs)\n",
        "x = layers.Conv2D(filters=32, kernel_size=3, activation=\"relu\")(x)\n",
        "x = layers.MaxPooling2D(pool_size=2)(x)\n",
        "x = layers.Conv2D(filters=64, kernel_size=3, activation=\"relu\")(x)\n",
        "x = layers.MaxPooling2D(pool_size=2)(x)\n",
        "x = layers.Conv2D(filters=64, kernel_size=3, activation=\"relu\")(x)\n",
        "x = layers.Flatten()(x)\n",
        "x = layers.Dense(64, activation = \"relu\")(x) # 새롭게 추가한 layer\n",
        "outputs = layers.Dense(10, activation=\"softmax\")(x)\n",
        "model = keras.Model(inputs=inputs, outputs=outputs)"
      ],
      "metadata": {
        "id": "UALiJPf8IqsJ"
      },
      "execution_count": 11,
      "outputs": []
    },
    {
      "cell_type": "code",
      "source": [
        "#모델 요약\n",
        "model.summary()"
      ],
      "metadata": {
        "colab": {
          "base_uri": "https://localhost:8080/"
        },
        "id": "kKo9MptWLZGz",
        "outputId": "1ebab9a6-2fa9-4b00-99d7-959c9ec1672b"
      },
      "execution_count": 12,
      "outputs": [
        {
          "output_type": "stream",
          "name": "stdout",
          "text": [
            "Model: \"model\"\n",
            "_________________________________________________________________\n",
            " Layer (type)                Output Shape              Param #   \n",
            "=================================================================\n",
            " input_1 (InputLayer)        [(None, 28, 28, 1)]       0         \n",
            "                                                                 \n",
            " sequential (Sequential)     (None, 28, 28, 1)         0         \n",
            "                                                                 \n",
            " conv2d (Conv2D)             (None, 26, 26, 32)        320       \n",
            "                                                                 \n",
            " max_pooling2d (MaxPooling2  (None, 13, 13, 32)        0         \n",
            " D)                                                              \n",
            "                                                                 \n",
            " conv2d_1 (Conv2D)           (None, 11, 11, 64)        18496     \n",
            "                                                                 \n",
            " max_pooling2d_1 (MaxPoolin  (None, 5, 5, 64)          0         \n",
            " g2D)                                                            \n",
            "                                                                 \n",
            " conv2d_2 (Conv2D)           (None, 3, 3, 64)          36928     \n",
            "                                                                 \n",
            " flatten (Flatten)           (None, 576)               0         \n",
            "                                                                 \n",
            " dense (Dense)               (None, 64)                36928     \n",
            "                                                                 \n",
            " dense_1 (Dense)             (None, 10)                650       \n",
            "                                                                 \n",
            "=================================================================\n",
            "Total params: 93322 (364.54 KB)\n",
            "Trainable params: 93322 (364.54 KB)\n",
            "Non-trainable params: 0 (0.00 Byte)\n",
            "_________________________________________________________________\n"
          ]
        }
      ]
    },
    {
      "cell_type": "code",
      "source": [
        "# 모델 컴파일, 옵티마이저인 adam의 학습률 변경\n",
        "optimizer = tf.keras.optimizers.Adam(learning_rate=3e-5) # 1e-3 -> 3e-5\n",
        "model.compile(loss=\"sparse_categorical_crossentropy\",\n",
        "              optimizer=optimizer,\n",
        "              metrics=\"accuracy\")"
      ],
      "metadata": {
        "id": "S3Kv0EeDMVNY"
      },
      "execution_count": 13,
      "outputs": []
    },
    {
      "cell_type": "markdown",
      "source": [
        "# 모델 훈련하기, 평가하기"
      ],
      "metadata": {
        "id": "KatEJf2vNSbH"
      }
    },
    {
      "cell_type": "code",
      "source": [
        "callbacks = [\n",
        "    keras.callbacks.ModelCheckpoint(\n",
        "        filepath=\"convnet_from_scratch_with_augmentation.keras\",\n",
        "        save_best_only=True,\n",
        "        monitor=\"val_loss\"),\n",
        "    keras.callbacks.EarlyStopping(\n",
        "        monitor=\"val_accuracy\",\n",
        "        patience=5) # 3 -> 5\n",
        "]\n",
        "history = model.fit(\n",
        "    train_data,\n",
        "    validation_data=(valid_data),\n",
        "    epochs=30, # 10 -> 30\n",
        "    callbacks=callbacks)"
      ],
      "metadata": {
        "colab": {
          "base_uri": "https://localhost:8080/"
        },
        "id": "mAAh-A8nNXIo",
        "outputId": "8395e6ca-4209-42cb-fc60-b18db81f61a8"
      },
      "execution_count": 14,
      "outputs": [
        {
          "output_type": "stream",
          "name": "stdout",
          "text": [
            "Epoch 1/30\n",
            "782/782 [==============================] - 21s 15ms/step - loss: 1.3058 - accuracy: 0.6437 - val_loss: 0.4398 - val_accuracy: 0.8785\n",
            "Epoch 2/30\n",
            "782/782 [==============================] - 6s 8ms/step - loss: 0.4603 - accuracy: 0.8679 - val_loss: 0.2776 - val_accuracy: 0.9214\n",
            "Epoch 3/30\n",
            "782/782 [==============================] - 7s 9ms/step - loss: 0.3414 - accuracy: 0.8993 - val_loss: 0.2148 - val_accuracy: 0.9385\n",
            "Epoch 4/30\n",
            "782/782 [==============================] - 6s 7ms/step - loss: 0.2816 - accuracy: 0.9169 - val_loss: 0.1809 - val_accuracy: 0.9497\n",
            "Epoch 5/30\n",
            "782/782 [==============================] - 7s 9ms/step - loss: 0.2382 - accuracy: 0.9296 - val_loss: 0.1541 - val_accuracy: 0.9570\n",
            "Epoch 6/30\n",
            "782/782 [==============================] - 6s 8ms/step - loss: 0.2094 - accuracy: 0.9386 - val_loss: 0.1382 - val_accuracy: 0.9620\n",
            "Epoch 7/30\n",
            "782/782 [==============================] - 7s 9ms/step - loss: 0.1886 - accuracy: 0.9445 - val_loss: 0.1272 - val_accuracy: 0.9651\n",
            "Epoch 8/30\n",
            "782/782 [==============================] - 6s 8ms/step - loss: 0.1719 - accuracy: 0.9505 - val_loss: 0.1166 - val_accuracy: 0.9675\n",
            "Epoch 9/30\n",
            "782/782 [==============================] - 7s 9ms/step - loss: 0.1559 - accuracy: 0.9532 - val_loss: 0.1061 - val_accuracy: 0.9696\n",
            "Epoch 10/30\n",
            "782/782 [==============================] - 6s 8ms/step - loss: 0.1459 - accuracy: 0.9568 - val_loss: 0.0996 - val_accuracy: 0.9715\n",
            "Epoch 11/30\n",
            "782/782 [==============================] - 7s 9ms/step - loss: 0.1363 - accuracy: 0.9596 - val_loss: 0.0926 - val_accuracy: 0.9737\n",
            "Epoch 12/30\n",
            "782/782 [==============================] - 6s 8ms/step - loss: 0.1277 - accuracy: 0.9613 - val_loss: 0.0926 - val_accuracy: 0.9725\n",
            "Epoch 13/30\n",
            "782/782 [==============================] - 8s 10ms/step - loss: 0.1222 - accuracy: 0.9636 - val_loss: 0.0838 - val_accuracy: 0.9756\n",
            "Epoch 14/30\n",
            "782/782 [==============================] - 6s 7ms/step - loss: 0.1152 - accuracy: 0.9658 - val_loss: 0.0816 - val_accuracy: 0.9756\n",
            "Epoch 15/30\n",
            "782/782 [==============================] - 7s 9ms/step - loss: 0.1108 - accuracy: 0.9668 - val_loss: 0.0781 - val_accuracy: 0.9782\n",
            "Epoch 16/30\n",
            "782/782 [==============================] - 6s 8ms/step - loss: 0.1065 - accuracy: 0.9671 - val_loss: 0.0749 - val_accuracy: 0.9780\n",
            "Epoch 17/30\n",
            "782/782 [==============================] - 7s 9ms/step - loss: 0.1026 - accuracy: 0.9688 - val_loss: 0.0744 - val_accuracy: 0.9782\n",
            "Epoch 18/30\n",
            "782/782 [==============================] - 6s 7ms/step - loss: 0.1001 - accuracy: 0.9696 - val_loss: 0.0716 - val_accuracy: 0.9790\n",
            "Epoch 19/30\n",
            "782/782 [==============================] - 7s 9ms/step - loss: 0.0961 - accuracy: 0.9716 - val_loss: 0.0692 - val_accuracy: 0.9796\n",
            "Epoch 20/30\n",
            "782/782 [==============================] - 6s 7ms/step - loss: 0.0934 - accuracy: 0.9710 - val_loss: 0.0672 - val_accuracy: 0.9796\n",
            "Epoch 21/30\n",
            "782/782 [==============================] - 7s 9ms/step - loss: 0.0885 - accuracy: 0.9725 - val_loss: 0.0635 - val_accuracy: 0.9810\n",
            "Epoch 22/30\n",
            "782/782 [==============================] - 6s 8ms/step - loss: 0.0881 - accuracy: 0.9739 - val_loss: 0.0670 - val_accuracy: 0.9799\n",
            "Epoch 23/30\n",
            "782/782 [==============================] - 6s 8ms/step - loss: 0.0854 - accuracy: 0.9738 - val_loss: 0.0617 - val_accuracy: 0.9818\n",
            "Epoch 24/30\n",
            "782/782 [==============================] - 7s 9ms/step - loss: 0.0826 - accuracy: 0.9747 - val_loss: 0.0615 - val_accuracy: 0.9815\n",
            "Epoch 25/30\n",
            "782/782 [==============================] - 7s 9ms/step - loss: 0.0814 - accuracy: 0.9756 - val_loss: 0.0600 - val_accuracy: 0.9821\n",
            "Epoch 26/30\n",
            "782/782 [==============================] - 6s 8ms/step - loss: 0.0788 - accuracy: 0.9760 - val_loss: 0.0630 - val_accuracy: 0.9809\n",
            "Epoch 27/30\n",
            "782/782 [==============================] - 7s 9ms/step - loss: 0.0779 - accuracy: 0.9757 - val_loss: 0.0571 - val_accuracy: 0.9820\n",
            "Epoch 28/30\n",
            "782/782 [==============================] - 6s 8ms/step - loss: 0.0754 - accuracy: 0.9772 - val_loss: 0.0571 - val_accuracy: 0.9820\n",
            "Epoch 29/30\n",
            "782/782 [==============================] - 7s 9ms/step - loss: 0.0735 - accuracy: 0.9780 - val_loss: 0.0574 - val_accuracy: 0.9819\n",
            "Epoch 30/30\n",
            "782/782 [==============================] - 6s 7ms/step - loss: 0.0729 - accuracy: 0.9779 - val_loss: 0.0544 - val_accuracy: 0.9825\n"
          ]
        }
      ]
    },
    {
      "cell_type": "code",
      "source": [
        "# 훈련 과정 정확도, 손실 그래프 그리기\n",
        "import matplotlib.pyplot as plt\n",
        "\n",
        "accuracy = history.history[\"accuracy\"]\n",
        "val_accuracy = history.history[\"val_accuracy\"]\n",
        "loss = history.history[\"loss\"]\n",
        "val_loss = history.history[\"val_loss\"]\n",
        "epochs = range(1, len(accuracy)+1)\n",
        "plt.plot(epochs, accuracy, \"bo\", label=\"Training accuracy\")\n",
        "plt.plot(epochs, val_accuracy, \"b\", label=\"Validation accuracy\")\n",
        "plt.title(\"Training and validation accuracy\")\n",
        "plt.legend()\n",
        "plt.figure()\n",
        "plt.plot(epochs, loss, \"bo\", label=\"Training loss\")\n",
        "plt.plot(epochs, val_loss, \"b\", label=\"Validation loss\")\n",
        "plt.title(\"Training and validation loss\")\n",
        "plt.legend()\n",
        "plt.figure()"
      ],
      "metadata": {
        "id": "m4QJ8DwH32JN",
        "colab": {
          "base_uri": "https://localhost:8080/",
          "height": 924
        },
        "outputId": "16d24f2d-5680-4e6c-a218-18d23084dcbe"
      },
      "execution_count": 15,
      "outputs": [
        {
          "output_type": "execute_result",
          "data": {
            "text/plain": [
              "<Figure size 640x480 with 0 Axes>"
            ]
          },
          "metadata": {},
          "execution_count": 15
        },
        {
          "output_type": "display_data",
          "data": {
            "text/plain": [
              "<Figure size 640x480 with 1 Axes>"
            ],
            "image/png": "[encoded data removed]"
          },
          "metadata": {}
        },
        {
          "output_type": "display_data",
          "data": {
            "text/plain": [
              "<Figure size 640x480 with 1 Axes>"
            ],
            "image/png": "[encoded data removed]"
          },
          "metadata": {}
        },
        {
          "output_type": "display_data",
          "data": {
            "text/plain": [
              "<Figure size 640x480 with 0 Axes>"
            ]
          },
          "metadata": {}
        }
      ]
    },
    {
      "cell_type": "code",
      "source": [
        "# 테스트 세트에서 모델 평가하기\n",
        "import time\n",
        "\n",
        "test_model = keras.models.load_model(\"convnet_from_scratch_with_augmentation.keras\")\n",
        "start_time = time.time()\n",
        "test_loss, test_acc = test_model.evaluate(test_data)\n",
        "end_time = time.time()\n",
        "prediction_time = end_time - start_time\n",
        "print(f\"테스트 정확도: {test_acc:.3f}\")\n",
        "print(f\"prediction time : {prediction_time:.3f} s\")"
      ],
      "metadata": {
        "id": "LHYnkTBU56hP",
        "colab": {
          "base_uri": "https://localhost:8080/"
        },
        "outputId": "97a9e491-05aa-4078-8e02-de7388a248ae"
      },
      "execution_count": 16,
      "outputs": [
        {
          "output_type": "stream",
          "name": "stdout",
          "text": [
            "157/157 [==============================] - 1s 6ms/step - loss: 0.0399 - accuracy: 0.9863\n",
            "테스트 정확도: 0.986\n",
            "prediction time : 1.542 s\n"
          ]
        }
      ]
    }
  ],
  "metadata": {
    "accelerator": "GPU",
    "colab": {
      "provenance": [],
      "gpuType": "T4"
    },
    "kernelspec": {
      "display_name": "default:Python",
      "language": "python",
      "name": "conda-env-default-py"
    },
    "language_info": {
      "codemirror_mode": {
        "name": "ipython",
        "version": 3
      },
      "file_extension": ".py",
      "mimetype": "text/x-python",
      "name": "python",
      "nbconvert_exporter": "python",
      "pygments_lexer": "ipython3",
      "version": "3.9.10"
    },
    "widgets": {
      "application/vnd.jupyter.widget-state+json": {
        "e9b4d691f062453dbc0933e69fe8f4bf": {
          "model_module": "@jupyter-widgets/controls",
          "model_name": "HBoxModel",
          "model_module_version": "1.5.0",
          "state": {
            "_dom_classes": [],
            "_model_module": "@jupyter-widgets/controls",
            "_model_module_version": "1.5.0",
            "_model_name": "HBoxModel",
            "_view_count": null,
            "_view_module": "@jupyter-widgets/controls",
            "_view_module_version": "1.5.0",
            "_view_name": "HBoxView",
            "box_style": "",
            "children": [
              "IPY_MODEL_4087c67e44474942bc40dbf5ba07d7bc",
              "IPY_MODEL_3ceda20cd4744ef8b0acc8814443d171",
              "IPY_MODEL_cb1c46e0b98b45209729584775fdd894"
            ],
            "layout": "IPY_MODEL_aa21084bf4744e6ab3034ef6df061e7a"
          }
        },
        "4087c67e44474942bc40dbf5ba07d7bc": {
          "model_module": "@jupyter-widgets/controls",
          "model_name": "HTMLModel",
          "model_module_version": "1.5.0",
          "state": {
            "_dom_classes": [],
            "_model_module": "@jupyter-widgets/controls",
            "_model_module_version": "1.5.0",
            "_model_name": "HTMLModel",
            "_view_count": null,
            "_view_module": "@jupyter-widgets/controls",
            "_view_module_version": "1.5.0",
            "_view_name": "HTMLView",
            "description": "",
            "description_tooltip": null,
            "layout": "IPY_MODEL_178295cc6da04812a840fcb20b69a81c",
            "placeholder": "​",
            "style": "IPY_MODEL_fc65520514c34da293d80374d64572df",
            "value": "Dl Completed...: 100%"
          }
        },
        "3ceda20cd4744ef8b0acc8814443d171": {
          "model_module": "@jupyter-widgets/controls",
          "model_name": "FloatProgressModel",
          "model_module_version": "1.5.0",
          "state": {
            "_dom_classes": [],
            "_model_module": "@jupyter-widgets/controls",
            "_model_module_version": "1.5.0",
            "_model_name": "FloatProgressModel",
            "_view_count": null,
            "_view_module": "@jupyter-widgets/controls",
            "_view_module_version": "1.5.0",
            "_view_name": "ProgressView",
            "bar_style": "success",
            "description": "",
            "description_tooltip": null,
            "layout": "IPY_MODEL_abf2f55b5a554e1da79841f2272df88f",
            "max": 5,
            "min": 0,
            "orientation": "horizontal",
            "style": "IPY_MODEL_c094ad367aa84462a93d042575ca010d",
            "value": 5
          }
        },
        "cb1c46e0b98b45209729584775fdd894": {
          "model_module": "@jupyter-widgets/controls",
          "model_name": "HTMLModel",
          "model_module_version": "1.5.0",
          "state": {
            "_dom_classes": [],
            "_model_module": "@jupyter-widgets/controls",
            "_model_module_version": "1.5.0",
            "_model_name": "HTMLModel",
            "_view_count": null,
            "_view_module": "@jupyter-widgets/controls",
            "_view_module_version": "1.5.0",
            "_view_name": "HTMLView",
            "description": "",
            "description_tooltip": null,
            "layout": "IPY_MODEL_14a6189b9329432cb2bf10fddefe2425",
            "placeholder": "​",
            "style": "IPY_MODEL_3f01db6bad7c4b85bfb6dd466f60eecd",
            "value": " 5/5 [00:00&lt;00:00,  7.41 file/s]"
          }
        },
        "aa21084bf4744e6ab3034ef6df061e7a": {
          "model_module": "@jupyter-widgets/base",
          "model_name": "LayoutModel",
          "model_module_version": "1.2.0",
          "state": {
            "_model_module": "@jupyter-widgets/base",
            "_model_module_version": "1.2.0",
            "_model_name": "LayoutModel",
            "_view_count": null,
            "_view_module": "@jupyter-widgets/base",
            "_view_module_version": "1.2.0",
            "_view_name": "LayoutView",
            "align_content": null,
            "align_items": null,
            "align_self": null,
            "border": null,
            "bottom": null,
            "display": null,
            "flex": null,
            "flex_flow": null,
            "grid_area": null,
            "grid_auto_columns": null,
            "grid_auto_flow": null,
            "grid_auto_rows": null,
            "grid_column": null,
            "grid_gap": null,
            "grid_row": null,
            "grid_template_areas": null,
            "grid_template_columns": null,
            "grid_template_rows": null,
            "height": null,
            "justify_content": null,
            "justify_items": null,
            "left": null,
            "margin": null,
            "max_height": null,
            "max_width": null,
            "min_height": null,
            "min_width": null,
            "object_fit": null,
            "object_position": null,
            "order": null,
            "overflow": null,
            "overflow_x": null,
            "overflow_y": null,
            "padding": null,
            "right": null,
            "top": null,
            "visibility": null,
            "width": null
          }
        },
        "178295cc6da04812a840fcb20b69a81c": {
          "model_module": "@jupyter-widgets/base",
          "model_name": "LayoutModel",
          "model_module_version": "1.2.0",
          "state": {
            "_model_module": "@jupyter-widgets/base",
            "_model_module_version": "1.2.0",
            "_model_name": "LayoutModel",
            "_view_count": null,
            "_view_module": "@jupyter-widgets/base",
            "_view_module_version": "1.2.0",
            "_view_name": "LayoutView",
            "align_content": null,
            "align_items": null,
            "align_self": null,
            "border": null,
            "bottom": null,
            "display": null,
            "flex": null,
            "flex_flow": null,
            "grid_area": null,
            "grid_auto_columns": null,
            "grid_auto_flow": null,
            "grid_auto_rows": null,
            "grid_column": null,
            "grid_gap": null,
            "grid_row": null,
            "grid_template_areas": null,
            "grid_template_columns": null,
            "grid_template_rows": null,
            "height": null,
            "justify_content": null,
            "justify_items": null,
            "left": null,
            "margin": null,
            "max_height": null,
            "max_width": null,
            "min_height": null,
            "min_width": null,
            "object_fit": null,
            "object_position": null,
            "order": null,
            "overflow": null,
            "overflow_x": null,
            "overflow_y": null,
            "padding": null,
            "right": null,
            "top": null,
            "visibility": null,
            "width": null
          }
        },
        "fc65520514c34da293d80374d64572df": {
          "model_module": "@jupyter-widgets/controls",
          "model_name": "DescriptionStyleModel",
          "model_module_version": "1.5.0",
          "state": {
            "_model_module": "@jupyter-widgets/controls",
            "_model_module_version": "1.5.0",
            "_model_name": "DescriptionStyleModel",
            "_view_count": null,
            "_view_module": "@jupyter-widgets/base",
            "_view_module_version": "1.2.0",
            "_view_name": "StyleView",
            "description_width": ""
          }
        },
        "abf2f55b5a554e1da79841f2272df88f": {
          "model_module": "@jupyter-widgets/base",
          "model_name": "LayoutModel",
          "model_module_version": "1.2.0",
          "state": {
            "_model_module": "@jupyter-widgets/base",
            "_model_module_version": "1.2.0",
            "_model_name": "LayoutModel",
            "_view_count": null,
            "_view_module": "@jupyter-widgets/base",
            "_view_module_version": "1.2.0",
            "_view_name": "LayoutView",
            "align_content": null,
            "align_items": null,
            "align_self": null,
            "border": null,
            "bottom": null,
            "display": null,
            "flex": null,
            "flex_flow": null,
            "grid_area": null,
            "grid_auto_columns": null,
            "grid_auto_flow": null,
            "grid_auto_rows": null,
            "grid_column": null,
            "grid_gap": null,
            "grid_row": null,
            "grid_template_areas": null,
            "grid_template_columns": null,
            "grid_template_rows": null,
            "height": null,
            "justify_content": null,
            "justify_items": null,
            "left": null,
            "margin": null,
            "max_height": null,
            "max_width": null,
            "min_height": null,
            "min_width": null,
            "object_fit": null,
            "object_position": null,
            "order": null,
            "overflow": null,
            "overflow_x": null,
            "overflow_y": null,
            "padding": null,
            "right": null,
            "top": null,
            "visibility": null,
            "width": null
          }
        },
        "c094ad367aa84462a93d042575ca010d": {
          "model_module": "@jupyter-widgets/controls",
          "model_name": "ProgressStyleModel",
          "model_module_version": "1.5.0",
          "state": {
            "_model_module": "@jupyter-widgets/controls",
            "_model_module_version": "1.5.0",
            "_model_name": "ProgressStyleModel",
            "_view_count": null,
            "_view_module": "@jupyter-widgets/base",
            "_view_module_version": "1.2.0",
            "_view_name": "StyleView",
            "bar_color": null,
            "description_width": ""
          }
        },
        "14a6189b9329432cb2bf10fddefe2425": {
          "model_module": "@jupyter-widgets/base",
          "model_name": "LayoutModel",
          "model_module_version": "1.2.0",
          "state": {
            "_model_module": "@jupyter-widgets/base",
            "_model_module_version": "1.2.0",
            "_model_name": "LayoutModel",
            "_view_count": null,
            "_view_module": "@jupyter-widgets/base",
            "_view_module_version": "1.2.0",
            "_view_name": "LayoutView",
            "align_content": null,
            "align_items": null,
            "align_self": null,
            "border": null,
            "bottom": null,
            "display": null,
            "flex": null,
            "flex_flow": null,
            "grid_area": null,
            "grid_auto_columns": null,
            "grid_auto_flow": null,
            "grid_auto_rows": null,
            "grid_column": null,
            "grid_gap": null,
            "grid_row": null,
            "grid_template_areas": null,
            "grid_template_columns": null,
            "grid_template_rows": null,
            "height": null,
            "justify_content": null,
            "justify_items": null,
            "left": null,
            "margin": null,
            "max_height": null,
            "max_width": null,
            "min_height": null,
            "min_width": null,
            "object_fit": null,
            "object_position": null,
            "order": null,
            "overflow": null,
            "overflow_x": null,
            "overflow_y": null,
            "padding": null,
            "right": null,
            "top": null,
            "visibility": null,
            "width": null
          }
        },
        "3f01db6bad7c4b85bfb6dd466f60eecd": {
          "model_module": "@jupyter-widgets/controls",
          "model_name": "DescriptionStyleModel",
          "model_module_version": "1.5.0",
          "state": {
            "_model_module": "@jupyter-widgets/controls",
            "_model_module_version": "1.5.0",
            "_model_name": "DescriptionStyleModel",
            "_view_count": null,
            "_view_module": "@jupyter-widgets/base",
            "_view_module_version": "1.2.0",
            "_view_name": "StyleView",
            "description_width": ""
          }
        }
      }
    }
  },
  "nbformat": 4,
  "nbformat_minor": 0
}